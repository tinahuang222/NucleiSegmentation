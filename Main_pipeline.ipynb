{
 "cells": [
  {
   "cell_type": "code",
   "execution_count": 1,
   "metadata": {},
   "outputs": [],
   "source": [
    "#import packages/modules"
   ]
  },
  {
   "cell_type": "markdown",
   "metadata": {},
   "source": [
    "# nuclear_mask_generation (Samir)"
   ]
  },
  {
   "cell_type": "code",
   "execution_count": null,
   "metadata": {},
   "outputs": [],
   "source": [
    "\"\"\" TODO: Samir\n",
    "1. calling function from nuclear_mask_generation (Samir)\n",
    "this should output masks_dir, masks coordinates for all tiles\n",
    "\"\"\""
   ]
  },
  {
   "cell_type": "markdown",
   "metadata": {},
   "source": [
    "# Color Deconvolve from H&E to greyscale images (Keane)"
   ]
  },
  {
   "cell_type": "code",
   "execution_count": null,
   "metadata": {},
   "outputs": [],
   "source": [
    "\"\"\" TODO: Keane\n",
    "2. color deconvolve from PREPROCESSING (Keane)\n",
    "this should output pickle file \n",
    "\"\"\"\n"
   ]
  },
  {
   "cell_type": "markdown",
   "metadata": {},
   "source": [
    "# Feature Generations"
   ]
  },
  {
   "cell_type": "markdown",
   "metadata": {},
   "source": [
    "## cell level features ##\n",
    "from masks and deconvolved Hematoxylin stained Nuclei"
   ]
  },
  {
   "cell_type": "code",
   "execution_count": null,
   "metadata": {},
   "outputs": [],
   "source": [
    "\"\"\" TODO: Tina\n",
    "3. Nuclear_Feature_Generation(Tina)\n",
    "feature_generation will take he_image_pickle(Keane), mask_dir(from Samir), and save_dir(output_dir) + bug_dir (will log the bug if occured). This will output tile_features for all tiles in the save_dir.\n",
    "\"\"\" \n",
    "#nuclei_feature_generation_main.feature_generation(he_image_pickle, mask_dir, save_dir, bug_dir)"
   ]
  },
  {
   "cell_type": "markdown",
   "metadata": {},
   "source": [
    "## tile level features##\n",
    "aggregated features from cell_level features"
   ]
  },
  {
   "cell_type": "code",
   "execution_count": 6,
   "metadata": {},
   "outputs": [
    {
     "data": {
      "text/plain": [
       "\" TODO: Tina\\n4. feature_aggregator will take all files with .csv extension under save_mask_dir and output the aggregated_features into path 'save_to_dir'/'save_file_name'.csv\\n\""
      ]
     },
     "execution_count": 6,
     "metadata": {},
     "output_type": "execute_result"
    }
   ],
   "source": [
    "\"\"\" TODO: Tina\n",
    "4. feature_aggregator will take all files with .csv extension under save_mask_dir and output the aggregated_features into path 'save_to_dir'/'save_file_name'.csv\n",
    "\"\"\"\n",
    "#nuclei_feature_aggregator_main.features_aggregator_main(save_mask_dir, save_to_dir, save_file_name)"
   ]
  },
  {
   "cell_type": "markdown",
   "metadata": {},
   "source": [
    "## quadrant level features ##"
   ]
  },
  {
   "cell_type": "code",
   "execution_count": 8,
   "metadata": {},
   "outputs": [
    {
     "data": {
      "text/plain": [
       "' TODO: Keane\\n5. quadrant level features\\n'"
      ]
     },
     "execution_count": 8,
     "metadata": {},
     "output_type": "execute_result"
    }
   ],
   "source": [
    "\"\"\" TODO: Keane\n",
    "5. quadrant level features\n",
    "\"\"\""
   ]
  },
  {
   "cell_type": "markdown",
   "metadata": {},
   "source": [
    "## Cell graph features (Minh) ##"
   ]
  },
  {
   "cell_type": "code",
   "execution_count": null,
   "metadata": {},
   "outputs": [],
   "source": [
    "\"\"\" TODO:  Samir + Minh\n",
    "6.  Cell_graph_analysis (Samir+Minh):\n",
    "\n",
    "\"\"\" "
   ]
  },
  {
   "cell_type": "markdown",
   "metadata": {},
   "source": [
    "## Cell graph features (Samir) ##"
   ]
  },
  {
   "cell_type": "code",
   "execution_count": null,
   "metadata": {},
   "outputs": [],
   "source": [
    "\"\"\" TODO:  Samir + Minh\n",
    "7.  Cell_graph_analysis (Samir+Minh):\n",
    "\n",
    "\"\"\" "
   ]
  },
  {
   "cell_type": "markdown",
   "metadata": {},
   "source": [
    "# Feature Selection"
   ]
  },
  {
   "cell_type": "markdown",
   "metadata": {},
   "source": [
    "## Feature importance ranking##"
   ]
  },
  {
   "cell_type": "markdown",
   "metadata": {},
   "source": [
    "Logistic regression approach"
   ]
  },
  {
   "cell_type": "code",
   "execution_count": null,
   "metadata": {},
   "outputs": [],
   "source": [
    "\"\"\" TODO: Tina?  \n",
    "8. Feature_selection(Tina/Minh):\n",
    "   a)  TODO: Tina\n",
    "       run logistic regression to rank feature_importance (i'm not sure whether this will work on cell_graph_features)  \n",
    "          \n",
    "   \"\"\"\n",
    "        #get_logreg_coef(aggr_dir, save_aggr,tiles_dir, tiles_names,save_to_dir, save_filename)\n"
   ]
  },
  {
   "cell_type": "markdown",
   "metadata": {},
   "source": [
    "random forest approach"
   ]
  },
  {
   "cell_type": "code",
   "execution_count": null,
   "metadata": {},
   "outputs": [],
   "source": [
    "\n",
    "   \"\"\" \n",
    "   b)TODO: Minh\n",
    "       random_forest to select variable from both cell_level & cell_graph_analysis \n",
    "       \n",
    "   \"\"\"       \n",
    "        #get_logreg_coef(aggr_dir, save_aggr,tiles_dir, tiles_names,save_to_dir, save_filename)\n",
    "\n"
   ]
  },
  {
   "cell_type": "markdown",
   "metadata": {},
   "source": [
    "## Feature Selection from Feature Importance##"
   ]
  },
  {
   "cell_type": "code",
   "execution_count": null,
   "metadata": {},
   "outputs": [],
   "source": []
  },
  {
   "cell_type": "markdown",
   "metadata": {},
   "source": [
    "# Run Classifier"
   ]
  },
  {
   "cell_type": "code",
   "execution_count": 14,
   "metadata": {},
   "outputs": [
    {
     "data": {
      "text/plain": [
       "'\\n9. Run_classifier(Minh)\\n\\n'"
      ]
     },
     "execution_count": 14,
     "metadata": {},
     "output_type": "execute_result"
    }
   ],
   "source": [
    "\"\"\"\n",
    "9. Run_classifier(Minh)\n",
    "\n",
    "\"\"\" "
   ]
  },
  {
   "cell_type": "code",
   "execution_count": null,
   "metadata": {},
   "outputs": [],
   "source": []
  }
 ],
 "metadata": {
  "kernelspec": {
   "display_name": "Python 3",
   "language": "python",
   "name": "python3"
  },
  "language_info": {
   "codemirror_mode": {
    "name": "ipython",
    "version": 3
   },
   "file_extension": ".py",
   "mimetype": "text/x-python",
   "name": "python",
   "nbconvert_exporter": "python",
   "pygments_lexer": "ipython3",
   "version": "3.7.4"
  }
 },
 "nbformat": 4,
 "nbformat_minor": 2
}
